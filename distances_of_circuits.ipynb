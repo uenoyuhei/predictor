{
 "cells": [
  {
   "cell_type": "code",
   "execution_count": 1,
   "metadata": {},
   "outputs": [],
   "source": [
    "import pandas as pd\n",
    "ff = pd.read_csv(\"~/circuits_of_species.csv\")\n",
    "\n",
    "#1列目にモデル名２列目にspecies３列目にcircuitsの入力"
   ]
  },
  {
   "cell_type": "code",
   "execution_count": 56,
   "metadata": {
    "scrolled": true
   },
   "outputs": [],
   "source": [
    "lb=[]\n",
    "for i in range(len(ff)):    \n",
    "    #speciesを変数化\n",
    "    ll=ff.values[i][2][11:-1].split(\",\")\n",
    "    \n",
    "    #speciesを変数として登録するのでspeciesにffが含まれている場合エラーが起きるので注意\n",
    "    for j in ll:\n",
    "        globals()[j]=j\n",
    "        \n",
    "    lb.append([ff.values[i][1],ll  , eval(ff.values[i][3])])"
   ]
  },
  {
   "cell_type": "code",
   "execution_count": 49,
   "metadata": {
    "scrolled": false
   },
   "outputs": [
    {
     "name": "stdout",
     "output_type": "stream",
     "text": [
      "0 1\n",
      "0 1 0 / 3\n",
      "0 1 1 / 3\n",
      "0 1 2 / 3\n"
     ]
    },
    {
     "ename": "TypeError",
     "evalue": "'int' object is not iterable",
     "output_type": "error",
     "traceback": [
      "\u001b[0;31m---------------------------------------------------------------------------\u001b[0m",
      "\u001b[0;31mTypeError\u001b[0m                                 Traceback (most recent call last)",
      "\u001b[0;32m<ipython-input-49-dc5486f341b8>\u001b[0m in \u001b[0;36m<module>\u001b[0;34m\u001b[0m\n\u001b[1;32m     28\u001b[0m                 \u001b[0msmif\u001b[0m \u001b[0;34m=\u001b[0m \u001b[0msmif\u001b[0m\u001b[0;34m.\u001b[0m\u001b[0mreplace\u001b[0m\u001b[0;34m(\u001b[0m\u001b[0mmi\u001b[0m\u001b[0;34m[\u001b[0m\u001b[0mp\u001b[0m\u001b[0;34m]\u001b[0m\u001b[0;34m,\u001b[0m \u001b[0mk\u001b[0m\u001b[0;34m[\u001b[0m\u001b[0mp\u001b[0m\u001b[0;34m]\u001b[0m\u001b[0;34m)\u001b[0m\u001b[0;34m\u001b[0m\u001b[0;34m\u001b[0m\u001b[0m\n\u001b[1;32m     29\u001b[0m             \u001b[0mnmif\u001b[0m\u001b[0;34m=\u001b[0m\u001b[0meval\u001b[0m\u001b[0;34m(\u001b[0m\u001b[0msmif\u001b[0m\u001b[0;34m)\u001b[0m\u001b[0;34m\u001b[0m\u001b[0;34m\u001b[0m\u001b[0m\n\u001b[0;32m---> 30\u001b[0;31m             \u001b[0;32mfor\u001b[0m \u001b[0mp\u001b[0m \u001b[0;32min\u001b[0m \u001b[0mlen\u001b[0m\u001b[0;34m(\u001b[0m\u001b[0mmaf\u001b[0m\u001b[0;34m)\u001b[0m\u001b[0;34m:\u001b[0m\u001b[0;34m\u001b[0m\u001b[0;34m\u001b[0m\u001b[0m\n\u001b[0m\u001b[1;32m     31\u001b[0m                 \u001b[0mmaf\u001b[0m\u001b[0;34m[\u001b[0m\u001b[0mp\u001b[0m\u001b[0;34m]\u001b[0m\u001b[0;34m=\u001b[0m\u001b[0mtuple\u001b[0m\u001b[0;34m(\u001b[0m\u001b[0mmaf\u001b[0m\u001b[0;34m[\u001b[0m\u001b[0mp\u001b[0m\u001b[0;34m]\u001b[0m\u001b[0;34m)\u001b[0m\u001b[0;34m\u001b[0m\u001b[0;34m\u001b[0m\u001b[0m\n\u001b[1;32m     32\u001b[0m             \u001b[0;32mfor\u001b[0m \u001b[0mp\u001b[0m \u001b[0;32min\u001b[0m \u001b[0mlen\u001b[0m\u001b[0;34m(\u001b[0m\u001b[0mnmif\u001b[0m\u001b[0;34m)\u001b[0m\u001b[0;34m:\u001b[0m\u001b[0;34m\u001b[0m\u001b[0;34m\u001b[0m\u001b[0m\n",
      "\u001b[0;31mTypeError\u001b[0m: 'int' object is not iterable"
     ]
    }
   ],
   "source": [
    "import itertools\n",
    "\n",
    "#ldに距離行列を置く\n",
    "ld= [[0 for i in range(len(lb))]for j in range(len(lb))]\n",
    "\n",
    "\n",
    "for i in range(len(lb)):\n",
    "    for j in range(i+1, len(lb)):\n",
    "        #変数の数が少ない方の変数をmiにcircuitsをmifに入れ、同様にして大きい方も行う\n",
    "        if len(lb[i][1])<=len(lb[j][1]):\n",
    "            mi=lb[i][1].copy()\n",
    "            ma=lb[j][1].copy()\n",
    "            mif=lb[i][2].copy()\n",
    "            maf=lb[j][2].copy()\n",
    "        else:\n",
    "            mi=lb[j][1].copy()\n",
    "            ma=lb[i][1].copy()\n",
    "            mif=lb[j][2].copy()\n",
    "            maf=lb[i][2].copy()\n",
    "            \n",
    "        #対象差をリストに入れて最小値を取りldに代入\n",
    "        lds=[]\n",
    "        for k in itertools.permutations(ma, len(mi)):\n",
    "            #mifのspeciesを置換したnmifを作る\n",
    "            nmif = [[k[mi.index(value2)] for index2, value2 in enumerate(value)] for index, value in enumerate(mif)]\n",
    "            \n",
    "            #set型で対象差をとるため一旦要素をtupleにしてその上でset型にする\n",
    "            maf=set(map(lambda x: tuple(x), maf))\n",
    "            nmif=set(map(lambda x: tuple(x), nmif))\n",
    "            lds.append(len(maf^nmif))\n",
    "            \n",
    "        ld[i][j]=min(lds)\n",
    "        ld[j][i]=min(lds)\n",
    "        "
   ]
  },
  {
   "cell_type": "code",
   "execution_count": 14,
   "metadata": {},
   "outputs": [
    {
     "ename": "TypeError",
     "evalue": "object of type 'itertools.permutations' has no len()",
     "output_type": "error",
     "traceback": [
      "\u001b[0;31m---------------------------------------------------------------------------\u001b[0m",
      "\u001b[0;31mTypeError\u001b[0m                                 Traceback (most recent call last)",
      "\u001b[0;32m<ipython-input-14-63572a3a1923>\u001b[0m in \u001b[0;36m<module>\u001b[0;34m\u001b[0m\n\u001b[1;32m      6\u001b[0m \u001b[0;34m\u001b[0m\u001b[0m\n\u001b[1;32m      7\u001b[0m \u001b[0mlds\u001b[0m\u001b[0;34m=\u001b[0m\u001b[0;34m[\u001b[0m\u001b[0;34m]\u001b[0m\u001b[0;34m\u001b[0m\u001b[0;34m\u001b[0m\u001b[0m\n\u001b[0;32m----> 8\u001b[0;31m \u001b[0mlen\u001b[0m\u001b[0;34m(\u001b[0m\u001b[0mitertools\u001b[0m\u001b[0;34m.\u001b[0m\u001b[0mpermutations\u001b[0m\u001b[0;34m(\u001b[0m\u001b[0mma\u001b[0m\u001b[0;34m,\u001b[0m \u001b[0mlen\u001b[0m\u001b[0;34m(\u001b[0m\u001b[0mmi\u001b[0m\u001b[0;34m)\u001b[0m\u001b[0;34m)\u001b[0m\u001b[0;34m)\u001b[0m\u001b[0;34m\u001b[0m\u001b[0;34m\u001b[0m\u001b[0m\n\u001b[0m",
      "\u001b[0;31mTypeError\u001b[0m: object of type 'itertools.permutations' has no len()"
     ]
    }
   ],
   "source": [
    "lc=[]\n",
    "for i in lb:\n",
    "    lc.append(i[0])\n",
    "\n",
    "df = pd.DataFrame(ld, columns=lc, index=lc)\n",
    "df.to_csv('distances_of_circuits.csv', mode='w')"
   ]
  },
  {
   "cell_type": "code",
   "execution_count": 6,
   "metadata": {
    "scrolled": true
   },
   "outputs": [
    {
     "name": "stdout",
     "output_type": "stream",
     "text": [
      "<itertools.permutations object at 0x7fa76817d680> / 120\n",
      "<itertools.permutations object at 0x7fa76817d680> / 120\n",
      "<itertools.permutations object at 0x7fa76817d680> / 120\n",
      "<itertools.permutations object at 0x7fa7883a0270> / 120\n",
      "<itertools.permutations object at 0x7fa7883a0270> / 120\n",
      "<itertools.permutations object at 0x7fa7883a0270> / 120\n",
      "<itertools.permutations object at 0x7fa7883a0270> / 120\n",
      "<itertools.permutations object at 0x7fa7883a0270> / 120\n",
      "<itertools.permutations object at 0x7fa7883a0270> / 120\n",
      "<itertools.permutations object at 0x7fa7883a0270> / 120\n",
      "<itertools.permutations object at 0x7fa7883a0270> / 120\n",
      "<itertools.permutations object at 0x7fa7883a0270> / 120\n",
      "<itertools.permutations object at 0x7fa7883a0270> / 120\n",
      "<itertools.permutations object at 0x7fa7883a0270> / 120\n",
      "<itertools.permutations object at 0x7fa7883a0270> / 120\n",
      "<itertools.permutations object at 0x7fa7883a0270> / 120\n",
      "<itertools.permutations object at 0x7fa7883a0270> / 120\n",
      "<itertools.permutations object at 0x7fa7883a0270> / 120\n",
      "<itertools.permutations object at 0x7fa7883a0270> / 120\n",
      "<itertools.permutations object at 0x7fa7883a0270> / 120\n",
      "<itertools.permutations object at 0x7fa7883a0270> / 120\n",
      "<itertools.permutations object at 0x7fa7883a0270> / 120\n",
      "<itertools.permutations object at 0x7fa7883a0270> / 120\n",
      "<itertools.permutations object at 0x7fa7883a0270> / 120\n",
      "<itertools.permutations object at 0x7fa7883a0270> / 120\n",
      "<itertools.permutations object at 0x7fa7883a0270> / 120\n",
      "<itertools.permutations object at 0x7fa7883a0270> / 120\n",
      "<itertools.permutations object at 0x7fa7883a0270> / 120\n",
      "<itertools.permutations object at 0x7fa7883a0270> / 120\n",
      "<itertools.permutations object at 0x7fa7883a0270> / 120\n",
      "<itertools.permutations object at 0x7fa7883a0270> / 120\n",
      "<itertools.permutations object at 0x7fa7883a0270> / 120\n",
      "<itertools.permutations object at 0x7fa7883a0270> / 120\n",
      "<itertools.permutations object at 0x7fa7883a0270> / 120\n",
      "<itertools.permutations object at 0x7fa7883a0270> / 120\n",
      "<itertools.permutations object at 0x7fa7883a0270> / 120\n",
      "<itertools.permutations object at 0x7fa7883a0270> / 120\n",
      "<itertools.permutations object at 0x7fa7883a0270> / 120\n",
      "<itertools.permutations object at 0x7fa7883a0270> / 120\n",
      "<itertools.permutations object at 0x7fa7883a0270> / 120\n",
      "<itertools.permutations object at 0x7fa7883a0270> / 120\n",
      "<itertools.permutations object at 0x7fa7883a0270> / 120\n",
      "<itertools.permutations object at 0x7fa7883a0270> / 120\n",
      "<itertools.permutations object at 0x7fa7883a0270> / 120\n",
      "<itertools.permutations object at 0x7fa7883a0270> / 120\n",
      "<itertools.permutations object at 0x7fa7883a0270> / 120\n",
      "<itertools.permutations object at 0x7fa7883a0270> / 120\n",
      "<itertools.permutations object at 0x7fa7883a0270> / 120\n",
      "<itertools.permutations object at 0x7fa7883a0270> / 120\n",
      "<itertools.permutations object at 0x7fa7883a0270> / 120\n",
      "<itertools.permutations object at 0x7fa7883a0270> / 120\n",
      "<itertools.permutations object at 0x7fa7883a0270> / 120\n",
      "<itertools.permutations object at 0x7fa7883a0270> / 120\n",
      "<itertools.permutations object at 0x7fa7883a0270> / 120\n",
      "<itertools.permutations object at 0x7fa7883a0270> / 120\n",
      "<itertools.permutations object at 0x7fa7883a0270> / 120\n",
      "<itertools.permutations object at 0x7fa7883a0270> / 120\n",
      "<itertools.permutations object at 0x7fa7883a0270> / 120\n",
      "<itertools.permutations object at 0x7fa7883a0270> / 120\n",
      "<itertools.permutations object at 0x7fa7883a0270> / 120\n",
      "<itertools.permutations object at 0x7fa7883a0270> / 120\n",
      "<itertools.permutations object at 0x7fa7883a0270> / 120\n",
      "<itertools.permutations object at 0x7fa7883a0270> / 120\n",
      "<itertools.permutations object at 0x7fa7883a0270> / 120\n",
      "<itertools.permutations object at 0x7fa7883a0270> / 120\n",
      "<itertools.permutations object at 0x7fa7883a0270> / 120\n",
      "<itertools.permutations object at 0x7fa7883a0270> / 120\n",
      "<itertools.permutations object at 0x7fa7883a0270> / 120\n",
      "<itertools.permutations object at 0x7fa7883a0270> / 120\n",
      "<itertools.permutations object at 0x7fa7883a0270> / 120\n",
      "<itertools.permutations object at 0x7fa7883a0270> / 120\n",
      "<itertools.permutations object at 0x7fa7883a0270> / 120\n",
      "<itertools.permutations object at 0x7fa7883a0270> / 120\n",
      "<itertools.permutations object at 0x7fa7883a0270> / 120\n",
      "<itertools.permutations object at 0x7fa7883a0270> / 120\n",
      "<itertools.permutations object at 0x7fa7883a0270> / 120\n",
      "<itertools.permutations object at 0x7fa7883a0270> / 120\n",
      "<itertools.permutations object at 0x7fa7883a0270> / 120\n",
      "<itertools.permutations object at 0x7fa7883a0270> / 120\n",
      "<itertools.permutations object at 0x7fa7883a0270> / 120\n",
      "<itertools.permutations object at 0x7fa7883a0270> / 120\n",
      "<itertools.permutations object at 0x7fa7883a0270> / 120\n",
      "<itertools.permutations object at 0x7fa7883a0270> / 120\n",
      "<itertools.permutations object at 0x7fa7883a0270> / 120\n",
      "<itertools.permutations object at 0x7fa7883a0270> / 120\n",
      "<itertools.permutations object at 0x7fa7883a0270> / 120\n",
      "<itertools.permutations object at 0x7fa7883a0270> / 120\n",
      "<itertools.permutations object at 0x7fa7883a0270> / 120\n",
      "<itertools.permutations object at 0x7fa7883a0270> / 120\n",
      "<itertools.permutations object at 0x7fa7883a0270> / 120\n",
      "<itertools.permutations object at 0x7fa7883a0270> / 120\n",
      "<itertools.permutations object at 0x7fa7883a0270> / 120\n",
      "<itertools.permutations object at 0x7fa7883a0270> / 120\n",
      "<itertools.permutations object at 0x7fa7883a0270> / 120\n",
      "<itertools.permutations object at 0x7fa7883a0270> / 120\n",
      "<itertools.permutations object at 0x7fa7883a0270> / 120\n",
      "<itertools.permutations object at 0x7fa7883a0270> / 120\n",
      "<itertools.permutations object at 0x7fa7883a0270> / 120\n",
      "<itertools.permutations object at 0x7fa7883a0270> / 120\n",
      "<itertools.permutations object at 0x7fa7883a0270> / 120\n",
      "<itertools.permutations object at 0x7fa7883a0270> / 120\n",
      "<itertools.permutations object at 0x7fa7883a0270> / 120\n",
      "<itertools.permutations object at 0x7fa7883a0270> / 120\n",
      "<itertools.permutations object at 0x7fa7883a0270> / 120\n",
      "<itertools.permutations object at 0x7fa7883a0270> / 120\n",
      "<itertools.permutations object at 0x7fa7883a0270> / 120\n",
      "<itertools.permutations object at 0x7fa7883a0270> / 120\n",
      "<itertools.permutations object at 0x7fa7883a0270> / 120\n",
      "<itertools.permutations object at 0x7fa7883a0270> / 120\n",
      "<itertools.permutations object at 0x7fa7883a0270> / 120\n",
      "<itertools.permutations object at 0x7fa7883a0270> / 120\n",
      "<itertools.permutations object at 0x7fa7883a0270> / 120\n",
      "<itertools.permutations object at 0x7fa7883a0270> / 120\n",
      "<itertools.permutations object at 0x7fa7883a0270> / 120\n",
      "<itertools.permutations object at 0x7fa7883a0270> / 120\n",
      "<itertools.permutations object at 0x7fa7883a0270> / 120\n",
      "<itertools.permutations object at 0x7fa7883a0270> / 120\n",
      "<itertools.permutations object at 0x7fa7883a0270> / 120\n",
      "<itertools.permutations object at 0x7fa7883a0270> / 120\n",
      "<itertools.permutations object at 0x7fa7883a0270> / 120\n"
     ]
    }
   ],
   "source": [
    "import itertools\n",
    "for k in itertools.permutations(ma, len(mi)):\n",
    "    print(itertools.permutations(ma, len(mi)), \"/\", len(list(itertools.permutations(ma, len(mi)))))\n",
    "    "
   ]
  },
  {
   "cell_type": "code",
   "execution_count": 2,
   "metadata": {},
   "outputs": [
    {
     "name": "stdout",
     "output_type": "stream",
     "text": [
      "[3, 3, 1, 3, 1, 3, 3, 3, 1, 3, 1, 3, 3, 5, 3, 5, 3, 3, 3, 5, 3, 5, 3, 3, 3, 3, 1, 3, 1, 3, 1, 1, 1, 1, 1, 1, 1, 3, 3, 3, 3, 1, 1, 3, 3, 3, 3, 1, 3, 3, 1, 3, 1, 3, 1, 1, 1, 1, 1, 1, 1, 3, 3, 3, 3, 1, 1, 3, 3, 3, 3, 1, 3, 5, 3, 5, 3, 3, 1, 3, 3, 3, 3, 1, 1, 3, 3, 3, 3, 1, 3, 3, 5, 3, 5, 3, 3, 5, 3, 5, 3, 3, 1, 3, 3, 3, 3, 1, 1, 3, 3, 3, 3, 1, 3, 3, 5, 3, 5, 3]\n"
     ]
    }
   ],
   "source": [
    "import itertools\n",
    "ma=['x', 'y0', 'y1', 'L', 'v']\n",
    "mi=['p', 'mm', 'm', 'pm']\n",
    "maf=[['y0'], ['y1']]\n",
    "mif=[['p'], ['mm'], ['pm']]\n",
    "\n",
    "lds=[]\n",
    "for k in itertools.permutations(ma, len(mi)):\n",
    "    #mifのspeciesを置換したnmifを作る\n",
    "    nmif = [[k[mi.index(value2)] for index2, value2 in enumerate(value)] for index, value in enumerate(mif)]\n",
    "\n",
    "    #set型で対象差をとるため一旦要素をtupleにしてその上でset型にする\n",
    "    maf=set(map(lambda x: tuple(x), maf))\n",
    "    nmif=set(map(lambda x: tuple(x), nmif))\n",
    "    lds.append(len(maf^nmif))\n",
    "print(lds)\n",
    "\n",
    "\n"
   ]
  },
  {
   "cell_type": "code",
   "execution_count": 86,
   "metadata": {},
   "outputs": [
    {
     "data": {
      "text/plain": [
       "<map at 0x116f80bb0>"
      ]
     },
     "execution_count": 86,
     "metadata": {},
     "output_type": "execute_result"
    }
   ],
   "source": [
    "maf"
   ]
  },
  {
   "cell_type": "code",
   "execution_count": null,
   "metadata": {},
   "outputs": [],
   "source": []
  },
  {
   "cell_type": "code",
   "execution_count": null,
   "metadata": {},
   "outputs": [],
   "source": []
  },
  {
   "cell_type": "code",
   "execution_count": 66,
   "metadata": {},
   "outputs": [
    {
     "data": {
      "text/plain": [
       "[['BIOMD0000000686',\n",
       "  ['x', 'y0', 'y1', 'L', 'v'],\n",
       "  [['y0'], ['y1'], ['v'], ['L'], ['x']]],\n",
       " ['BIOMD0000000238', ['M', 'T', 'BRRRR'], [['BRRRR'], ['T'], ['M']]],\n",
       " ['MODEL0913003363', ['m', 'z', 'h', 'x'], [['m'], ['z'], ['x'], ['h']]],\n",
       " ['BIOMD0000000280', ['V', 'N'], [['N'], ['V']]],\n",
       " ['BIOMD0000000549',\n",
       "  ['speciesu1', 'speciesu2'],\n",
       "  [['speciesu2'], ['speciesu1']]],\n",
       " ['MODEL2003030003',\n",
       "  ['Csuiv', 'Atuiv', 'Csusc', 'Atusc', 'CLNusc', 'Asc'],\n",
       "  [['Atusc'], ['Csusc'], ['Asc'], ['CLNusc'], ['Csuiv'], ['Atuiv']]],\n",
       " ['MODEL1006230055',\n",
       "  ['I', 'VI', 'VNI', 'E1', 'E2', 'E3', 'E4'],\n",
       "  [['E2'], ['E1'], ['VI'], ['E4'], ['I'], ['VNI'], ['E3']]],\n",
       " ['BIOMD0000000274', ['x', 'y', 'z'], [['z'], ['y'], ['x']]],\n",
       " ['BIOMD0000000252', ['p', 'mm', 'm', 'pm'], [['p'], ['mm'], ['pm'], ['m']]]]"
      ]
     },
     "execution_count": 66,
     "metadata": {},
     "output_type": "execute_result"
    }
   ],
   "source": [
    "lb"
   ]
  },
  {
   "cell_type": "code",
   "execution_count": null,
   "metadata": {},
   "outputs": [],
   "source": []
  }
 ],
 "metadata": {
  "kernelspec": {
   "display_name": "Python 3",
   "language": "python",
   "name": "python3"
  },
  "language_info": {
   "codemirror_mode": {
    "name": "ipython",
    "version": 3
   },
   "file_extension": ".py",
   "mimetype": "text/x-python",
   "name": "python",
   "nbconvert_exporter": "python",
   "pygments_lexer": "ipython3",
   "version": "3.8.5"
  }
 },
 "nbformat": 4,
 "nbformat_minor": 4
}
